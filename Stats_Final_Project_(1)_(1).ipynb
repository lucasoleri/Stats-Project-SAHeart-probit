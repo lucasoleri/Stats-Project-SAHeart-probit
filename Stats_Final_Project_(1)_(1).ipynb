{
 "cells": [
  {
   "cell_type": "code",
   "execution_count": 2,
   "id": "bbbf3e4e",
   "metadata": {
    "id": "bbbf3e4e"
   },
   "outputs": [],
   "source": [
    "import numpy as np\n",
    "import pandas as pd\n",
    "import matplotlib.pyplot as plt\n",
    "from scipy.stats import norm\n",
    "#import statsmodels.api as sm\n",
    "import math"
   ]
  },
  {
   "cell_type": "markdown",
   "id": "521d3510",
   "metadata": {
    "id": "521d3510"
   },
   "source": [
    "# Loading and transforming the data\n"
   ]
  },
  {
   "cell_type": "code",
   "execution_count": 3,
   "id": "a80157b9",
   "metadata": {
    "colab": {
     "base_uri": "https://localhost:8080/",
     "height": 206
    },
    "id": "a80157b9",
    "outputId": "13005eb0-480a-462c-d6da-e9dd6caab1ad"
   },
   "outputs": [
    {
     "data": {
      "text/html": [
       "<div>\n",
       "<style scoped>\n",
       "    .dataframe tbody tr th:only-of-type {\n",
       "        vertical-align: middle;\n",
       "    }\n",
       "\n",
       "    .dataframe tbody tr th {\n",
       "        vertical-align: top;\n",
       "    }\n",
       "\n",
       "    .dataframe thead th {\n",
       "        text-align: right;\n",
       "    }\n",
       "</style>\n",
       "<table border=\"1\" class=\"dataframe\">\n",
       "  <thead>\n",
       "    <tr style=\"text-align: right;\">\n",
       "      <th></th>\n",
       "      <th>sbp</th>\n",
       "      <th>tobacco</th>\n",
       "      <th>ldl</th>\n",
       "      <th>adiposity</th>\n",
       "      <th>famhist</th>\n",
       "      <th>typea</th>\n",
       "      <th>obesity</th>\n",
       "      <th>alcohol</th>\n",
       "      <th>age</th>\n",
       "      <th>chd</th>\n",
       "    </tr>\n",
       "  </thead>\n",
       "  <tbody>\n",
       "    <tr>\n",
       "      <th>0</th>\n",
       "      <td>160</td>\n",
       "      <td>12.00</td>\n",
       "      <td>5.73</td>\n",
       "      <td>23.11</td>\n",
       "      <td>1</td>\n",
       "      <td>49</td>\n",
       "      <td>25.30</td>\n",
       "      <td>97.20</td>\n",
       "      <td>52</td>\n",
       "      <td>1</td>\n",
       "    </tr>\n",
       "    <tr>\n",
       "      <th>1</th>\n",
       "      <td>144</td>\n",
       "      <td>0.01</td>\n",
       "      <td>4.41</td>\n",
       "      <td>28.61</td>\n",
       "      <td>0</td>\n",
       "      <td>55</td>\n",
       "      <td>28.87</td>\n",
       "      <td>2.06</td>\n",
       "      <td>63</td>\n",
       "      <td>1</td>\n",
       "    </tr>\n",
       "    <tr>\n",
       "      <th>2</th>\n",
       "      <td>118</td>\n",
       "      <td>0.08</td>\n",
       "      <td>3.48</td>\n",
       "      <td>32.28</td>\n",
       "      <td>1</td>\n",
       "      <td>52</td>\n",
       "      <td>29.14</td>\n",
       "      <td>3.81</td>\n",
       "      <td>46</td>\n",
       "      <td>0</td>\n",
       "    </tr>\n",
       "    <tr>\n",
       "      <th>3</th>\n",
       "      <td>170</td>\n",
       "      <td>7.50</td>\n",
       "      <td>6.41</td>\n",
       "      <td>38.03</td>\n",
       "      <td>1</td>\n",
       "      <td>51</td>\n",
       "      <td>31.99</td>\n",
       "      <td>24.26</td>\n",
       "      <td>58</td>\n",
       "      <td>1</td>\n",
       "    </tr>\n",
       "    <tr>\n",
       "      <th>4</th>\n",
       "      <td>134</td>\n",
       "      <td>13.60</td>\n",
       "      <td>3.50</td>\n",
       "      <td>27.78</td>\n",
       "      <td>1</td>\n",
       "      <td>60</td>\n",
       "      <td>25.99</td>\n",
       "      <td>57.34</td>\n",
       "      <td>49</td>\n",
       "      <td>1</td>\n",
       "    </tr>\n",
       "  </tbody>\n",
       "</table>\n",
       "</div>"
      ],
      "text/plain": [
       "   sbp  tobacco   ldl  adiposity famhist  typea  obesity  alcohol  age  chd\n",
       "0  160    12.00  5.73      23.11       1     49    25.30    97.20   52    1\n",
       "1  144     0.01  4.41      28.61       0     55    28.87     2.06   63    1\n",
       "2  118     0.08  3.48      32.28       1     52    29.14     3.81   46    0\n",
       "3  170     7.50  6.41      38.03       1     51    31.99    24.26   58    1\n",
       "4  134    13.60  3.50      27.78       1     60    25.99    57.34   49    1"
      ]
     },
     "execution_count": 3,
     "metadata": {},
     "output_type": "execute_result"
    }
   ],
   "source": [
    "df = pd.read_csv(\"SAheart.txt\",delim_whitespace=True)\n",
    "df.loc[df[\"famhist\"] == \"Present\", \"famhist\"] = 1\n",
    "df.loc[df[\"famhist\"] == \"Absent\", \"famhist\"] = 0\n",
    "df.head()"
   ]
  },
  {
   "cell_type": "markdown",
   "id": "5463dce7",
   "metadata": {
    "id": "5463dce7"
   },
   "source": [
    "# Splitting data into independet and dependent\n"
   ]
  },
  {
   "cell_type": "code",
   "execution_count": 4,
   "id": "mkXDbURPd5CC",
   "metadata": {
    "id": "mkXDbURPd5CC"
   },
   "outputs": [],
   "source": [
    "Y = df[\"chd\"]\n",
    "X = df.drop([\"chd\"],axis=1)\n",
    "X = (X - X.mean(axis=0))/X.std(axis=0) #standardizing the independent variables\n",
    "X = X.astype(float).to_numpy()\n",
    "Y = Y.astype(float).to_numpy()\n",
    "p = X.shape[1]\n",
    "n = X.shape[0]\n",
    "Y = Y.reshape((n, 1))\n",
    "\n",
    "X_1 = np.ones(n, dtype=int) #intercept\n",
    "X_1 = np.reshape(X_1, (n, 1))\n",
    "X = np.hstack((X_1, X)) #gaussian covariates"
   ]
  },
  {
   "cell_type": "code",
   "execution_count": 5,
   "id": "fec81853",
   "metadata": {
    "id": "fec81853"
   },
   "outputs": [],
   "source": [
    "#Y = df[\"chd\"]\n",
    "#X = df.drop([\"chd\"],axis=1)\n",
    "#X = (X - X.mean(axis=0))/X.std(axis=0) #standardizing the independent variables\n",
    "#X = sm.add_constant(X) # add constant vector for the intercept"
   ]
  },
  {
   "cell_type": "code",
   "execution_count": 14,
   "id": "4f53484f",
   "metadata": {
    "colab": {
     "base_uri": "https://localhost:8080/",
     "height": 175
    },
    "id": "4f53484f",
    "outputId": "0e3d217f-9d28-4b2d-c2c2-83ba00e07b82"
   },
   "outputs": [
    {
     "ename": "AttributeError",
     "evalue": "'numpy.ndarray' object has no attribute 'head'",
     "output_type": "error",
     "traceback": [
      "\u001b[1;31m---------------------------------------------------------------------------\u001b[0m",
      "\u001b[1;31mAttributeError\u001b[0m                            Traceback (most recent call last)",
      "\u001b[1;32m~\\AppData\\Local\\Temp\\ipykernel_18448\\1716939484.py\u001b[0m in \u001b[0;36m<module>\u001b[1;34m\u001b[0m\n\u001b[1;32m----> 1\u001b[1;33m \u001b[0mX\u001b[0m\u001b[1;33m.\u001b[0m\u001b[0mhead\u001b[0m\u001b[1;33m(\u001b[0m\u001b[1;33m)\u001b[0m\u001b[1;33m\u001b[0m\u001b[1;33m\u001b[0m\u001b[0m\n\u001b[0m",
      "\u001b[1;31mAttributeError\u001b[0m: 'numpy.ndarray' object has no attribute 'head'"
     ]
    }
   ],
   "source": [
    "X.head()"
   ]
  },
  {
   "cell_type": "markdown",
   "id": "c50a85d5",
   "metadata": {
    "id": "c50a85d5"
   },
   "source": [
    "# Reference model (uses Statsmodel) -- jusk for checking our results"
   ]
  },
  {
   "cell_type": "code",
   "execution_count": 7,
   "id": "f5861caf",
   "metadata": {
    "colab": {
     "base_uri": "https://localhost:8080/"
    },
    "id": "f5861caf",
    "outputId": "68333328-9090-4228-9735-5faddbf34d7b",
    "scrolled": true
   },
   "outputs": [
    {
     "ename": "AttributeError",
     "evalue": "module 'numpy' has no attribute 'MachAr'",
     "output_type": "error",
     "traceback": [
      "\u001b[1;31m---------------------------------------------------------------------------\u001b[0m",
      "\u001b[1;31mAttributeError\u001b[0m                            Traceback (most recent call last)",
      "\u001b[1;32m~\\AppData\\Local\\Temp\\ipykernel_18448\\1344242947.py\u001b[0m in \u001b[0;36m<module>\u001b[1;34m\u001b[0m\n\u001b[1;32m----> 1\u001b[1;33m \u001b[1;32mimport\u001b[0m \u001b[0mstatsmodels\u001b[0m\u001b[1;33m.\u001b[0m\u001b[0mapi\u001b[0m \u001b[1;32mas\u001b[0m \u001b[0msm\u001b[0m\u001b[1;33m\u001b[0m\u001b[1;33m\u001b[0m\u001b[0m\n\u001b[0m\u001b[0;32m      2\u001b[0m \u001b[1;32mfrom\u001b[0m \u001b[0mstatsmodels\u001b[0m\u001b[1;33m.\u001b[0m\u001b[0mdiscrete\u001b[0m\u001b[1;33m.\u001b[0m\u001b[0mdiscrete_model\u001b[0m \u001b[1;32mimport\u001b[0m \u001b[0mProbit\u001b[0m\u001b[1;33m\u001b[0m\u001b[1;33m\u001b[0m\u001b[0m\n\u001b[0;32m      3\u001b[0m \u001b[1;33m\u001b[0m\u001b[0m\n\u001b[0;32m      4\u001b[0m \u001b[0mmodel\u001b[0m \u001b[1;33m=\u001b[0m \u001b[0mProbit\u001b[0m\u001b[1;33m(\u001b[0m\u001b[0mY\u001b[0m\u001b[1;33m,\u001b[0m \u001b[0mX\u001b[0m\u001b[1;33m.\u001b[0m\u001b[0mastype\u001b[0m\u001b[1;33m(\u001b[0m\u001b[0mfloat\u001b[0m\u001b[1;33m)\u001b[0m\u001b[1;33m)\u001b[0m\u001b[1;33m\u001b[0m\u001b[1;33m\u001b[0m\u001b[0m\n\u001b[0;32m      5\u001b[0m \u001b[0mprobit_model\u001b[0m \u001b[1;33m=\u001b[0m \u001b[0mmodel\u001b[0m\u001b[1;33m.\u001b[0m\u001b[0mfit\u001b[0m\u001b[1;33m(\u001b[0m\u001b[1;33m)\u001b[0m\u001b[1;33m\u001b[0m\u001b[1;33m\u001b[0m\u001b[0m\n",
      "\u001b[1;32m~\\anaconda3\\lib\\site-packages\\statsmodels\\api.py\u001b[0m in \u001b[0;36m<module>\u001b[1;34m\u001b[0m\n\u001b[0;32m      7\u001b[0m \u001b[1;32mfrom\u001b[0m \u001b[1;33m.\u001b[0m \u001b[1;32mimport\u001b[0m \u001b[0mtools\u001b[0m\u001b[1;33m\u001b[0m\u001b[1;33m\u001b[0m\u001b[0m\n\u001b[0;32m      8\u001b[0m \u001b[1;32mfrom\u001b[0m \u001b[1;33m.\u001b[0m\u001b[0mtools\u001b[0m\u001b[1;33m.\u001b[0m\u001b[0mtools\u001b[0m \u001b[1;32mimport\u001b[0m \u001b[0madd_constant\u001b[0m\u001b[1;33m,\u001b[0m \u001b[0mcategorical\u001b[0m\u001b[1;33m\u001b[0m\u001b[1;33m\u001b[0m\u001b[0m\n\u001b[1;32m----> 9\u001b[1;33m \u001b[1;32mfrom\u001b[0m \u001b[1;33m.\u001b[0m \u001b[1;32mimport\u001b[0m \u001b[0mregression\u001b[0m\u001b[1;33m\u001b[0m\u001b[1;33m\u001b[0m\u001b[0m\n\u001b[0m\u001b[0;32m     10\u001b[0m \u001b[1;32mfrom\u001b[0m \u001b[1;33m.\u001b[0m\u001b[0mregression\u001b[0m\u001b[1;33m.\u001b[0m\u001b[0mlinear_model\u001b[0m \u001b[1;32mimport\u001b[0m \u001b[0mOLS\u001b[0m\u001b[1;33m,\u001b[0m \u001b[0mGLS\u001b[0m\u001b[1;33m,\u001b[0m \u001b[0mWLS\u001b[0m\u001b[1;33m,\u001b[0m \u001b[0mGLSAR\u001b[0m\u001b[1;33m\u001b[0m\u001b[1;33m\u001b[0m\u001b[0m\n\u001b[0;32m     11\u001b[0m \u001b[1;32mfrom\u001b[0m \u001b[1;33m.\u001b[0m\u001b[0mregression\u001b[0m\u001b[1;33m.\u001b[0m\u001b[0mrecursive_ls\u001b[0m \u001b[1;32mimport\u001b[0m \u001b[0mRecursiveLS\u001b[0m\u001b[1;33m\u001b[0m\u001b[1;33m\u001b[0m\u001b[0m\n",
      "\u001b[1;32m~\\anaconda3\\lib\\site-packages\\statsmodels\\regression\\__init__.py\u001b[0m in \u001b[0;36m<module>\u001b[1;34m\u001b[0m\n\u001b[1;32m----> 1\u001b[1;33m \u001b[1;32mfrom\u001b[0m \u001b[1;33m.\u001b[0m\u001b[0mlinear_model\u001b[0m \u001b[1;32mimport\u001b[0m \u001b[0myule_walker\u001b[0m\u001b[1;33m\u001b[0m\u001b[1;33m\u001b[0m\u001b[0m\n\u001b[0m\u001b[0;32m      2\u001b[0m \u001b[1;33m\u001b[0m\u001b[0m\n\u001b[0;32m      3\u001b[0m \u001b[1;32mfrom\u001b[0m \u001b[0mstatsmodels\u001b[0m\u001b[1;33m.\u001b[0m\u001b[0mtools\u001b[0m\u001b[1;33m.\u001b[0m\u001b[0m_testing\u001b[0m \u001b[1;32mimport\u001b[0m \u001b[0mPytestTester\u001b[0m\u001b[1;33m\u001b[0m\u001b[1;33m\u001b[0m\u001b[0m\n\u001b[0;32m      4\u001b[0m \u001b[1;33m\u001b[0m\u001b[0m\n\u001b[0;32m      5\u001b[0m \u001b[0m__all__\u001b[0m \u001b[1;33m=\u001b[0m \u001b[1;33m[\u001b[0m\u001b[1;34m'yule_walker'\u001b[0m\u001b[1;33m,\u001b[0m \u001b[1;34m'test'\u001b[0m\u001b[1;33m]\u001b[0m\u001b[1;33m\u001b[0m\u001b[1;33m\u001b[0m\u001b[0m\n",
      "\u001b[1;32m~\\anaconda3\\lib\\site-packages\\statsmodels\\regression\\linear_model.py\u001b[0m in \u001b[0;36m<module>\u001b[1;34m\u001b[0m\n\u001b[0;32m     44\u001b[0m from statsmodels.tools.decorators import (cache_readonly,\n\u001b[0;32m     45\u001b[0m                                           cache_writable)\n\u001b[1;32m---> 46\u001b[1;33m \u001b[1;32mimport\u001b[0m \u001b[0mstatsmodels\u001b[0m\u001b[1;33m.\u001b[0m\u001b[0mbase\u001b[0m\u001b[1;33m.\u001b[0m\u001b[0mmodel\u001b[0m \u001b[1;32mas\u001b[0m \u001b[0mbase\u001b[0m\u001b[1;33m\u001b[0m\u001b[1;33m\u001b[0m\u001b[0m\n\u001b[0m\u001b[0;32m     47\u001b[0m \u001b[1;32mimport\u001b[0m \u001b[0mstatsmodels\u001b[0m\u001b[1;33m.\u001b[0m\u001b[0mbase\u001b[0m\u001b[1;33m.\u001b[0m\u001b[0mwrapper\u001b[0m \u001b[1;32mas\u001b[0m \u001b[0mwrap\u001b[0m\u001b[1;33m\u001b[0m\u001b[1;33m\u001b[0m\u001b[0m\n\u001b[0;32m     48\u001b[0m \u001b[1;32mfrom\u001b[0m \u001b[0mstatsmodels\u001b[0m\u001b[1;33m.\u001b[0m\u001b[0memplike\u001b[0m\u001b[1;33m.\u001b[0m\u001b[0melregress\u001b[0m \u001b[1;32mimport\u001b[0m \u001b[0m_ELRegOpts\u001b[0m\u001b[1;33m\u001b[0m\u001b[1;33m\u001b[0m\u001b[0m\n",
      "\u001b[1;32m~\\anaconda3\\lib\\site-packages\\statsmodels\\base\\model.py\u001b[0m in \u001b[0;36m<module>\u001b[1;34m\u001b[0m\n\u001b[0;32m     14\u001b[0m                                           cached_value, cached_data)\n\u001b[0;32m     15\u001b[0m \u001b[1;32mimport\u001b[0m \u001b[0mstatsmodels\u001b[0m\u001b[1;33m.\u001b[0m\u001b[0mbase\u001b[0m\u001b[1;33m.\u001b[0m\u001b[0mwrapper\u001b[0m \u001b[1;32mas\u001b[0m \u001b[0mwrap\u001b[0m\u001b[1;33m\u001b[0m\u001b[1;33m\u001b[0m\u001b[0m\n\u001b[1;32m---> 16\u001b[1;33m \u001b[1;32mfrom\u001b[0m \u001b[0mstatsmodels\u001b[0m\u001b[1;33m.\u001b[0m\u001b[0mtools\u001b[0m\u001b[1;33m.\u001b[0m\u001b[0mnumdiff\u001b[0m \u001b[1;32mimport\u001b[0m \u001b[0mapprox_fprime\u001b[0m\u001b[1;33m\u001b[0m\u001b[1;33m\u001b[0m\u001b[0m\n\u001b[0m\u001b[0;32m     17\u001b[0m \u001b[1;32mfrom\u001b[0m \u001b[0mstatsmodels\u001b[0m\u001b[1;33m.\u001b[0m\u001b[0mtools\u001b[0m\u001b[1;33m.\u001b[0m\u001b[0msm_exceptions\u001b[0m \u001b[1;32mimport\u001b[0m \u001b[0mValueWarning\u001b[0m\u001b[1;33m,\u001b[0m\u001b[0;31m \u001b[0m\u001b[0;31m\\\u001b[0m\u001b[1;33m\u001b[0m\u001b[1;33m\u001b[0m\u001b[0m\n\u001b[0;32m     18\u001b[0m     \u001b[0mHessianInversionWarning\u001b[0m\u001b[1;33m\u001b[0m\u001b[1;33m\u001b[0m\u001b[0m\n",
      "\u001b[1;32m~\\anaconda3\\lib\\site-packages\\statsmodels\\tools\\numdiff.py\u001b[0m in \u001b[0;36m<module>\u001b[1;34m\u001b[0m\n\u001b[0;32m     49\u001b[0m \u001b[1;33m\u001b[0m\u001b[0m\n\u001b[0;32m     50\u001b[0m \u001b[1;31m# NOTE: we only do double precision internally so far\u001b[0m\u001b[1;33m\u001b[0m\u001b[1;33m\u001b[0m\u001b[1;33m\u001b[0m\u001b[0m\n\u001b[1;32m---> 51\u001b[1;33m \u001b[0mEPS\u001b[0m \u001b[1;33m=\u001b[0m \u001b[0mnp\u001b[0m\u001b[1;33m.\u001b[0m\u001b[0mMachAr\u001b[0m\u001b[1;33m(\u001b[0m\u001b[1;33m)\u001b[0m\u001b[1;33m.\u001b[0m\u001b[0meps\u001b[0m\u001b[1;33m\u001b[0m\u001b[1;33m\u001b[0m\u001b[0m\n\u001b[0m\u001b[0;32m     52\u001b[0m \u001b[1;33m\u001b[0m\u001b[0m\n\u001b[0;32m     53\u001b[0m _hessian_docs = \"\"\"\n",
      "\u001b[1;32m~\\anaconda3\\lib\\site-packages\\numpy\\__init__.py\u001b[0m in \u001b[0;36m__getattr__\u001b[1;34m(attr)\u001b[0m\n\u001b[0;32m    318\u001b[0m             \u001b[1;32mreturn\u001b[0m \u001b[0mTester\u001b[0m\u001b[1;33m\u001b[0m\u001b[1;33m\u001b[0m\u001b[0m\n\u001b[0;32m    319\u001b[0m \u001b[1;33m\u001b[0m\u001b[0m\n\u001b[1;32m--> 320\u001b[1;33m         raise AttributeError(\"module {!r} has no attribute \"\n\u001b[0m\u001b[0;32m    321\u001b[0m                              \"{!r}\".format(__name__, attr))\n\u001b[0;32m    322\u001b[0m \u001b[1;33m\u001b[0m\u001b[0m\n",
      "\u001b[1;31mAttributeError\u001b[0m: module 'numpy' has no attribute 'MachAr'"
     ]
    }
   ],
   "source": [
    "import statsmodels.api as sm\n",
    "from statsmodels.discrete.discrete_model import Probit\n",
    "\n",
    "model = Probit(Y, X.astype(float))\n",
    "probit_model = model.fit()\n",
    "print(probit_model.summary())"
   ]
  },
  {
   "cell_type": "markdown",
   "id": "cbbb8cb8",
   "metadata": {
    "id": "cbbb8cb8"
   },
   "source": [
    "# Probit with Fisher Scoring"
   ]
  },
  {
   "cell_type": "code",
   "execution_count": 8,
   "id": "e4b7d1d9",
   "metadata": {
    "id": "e4b7d1d9"
   },
   "outputs": [],
   "source": [
    "def probit(X,Y, epsilon):\n",
    "#X = covariates\n",
    "#Y = dependent variable\n",
    "#epsilon = threshold for convergence\n",
    "\n",
    "    n,p = np.shape(X)\n",
    "\n",
    "    #Initial values of the algorithms\n",
    "    b_0 = np.zeros((p,1))\n",
    "    eta_0 = np.dot(X, b_0)\n",
    "    mu_0 = norm.cdf(eta_0)\n",
    "\n",
    "    W = np.diag((((norm.pdf(eta_0))**2)/(mu_0*(1-mu_0))).reshape(n,))\n",
    "    Z = eta_0+(Y-mu_0)/(norm.pdf(eta_0))\n",
    "\n",
    "\n",
    "    #boolean\n",
    "    convergence = False\n",
    "    while not convergence:\n",
    "\n",
    "        #new estimate\n",
    "        b = np.linalg.multi_dot([np.linalg.inv(np.linalg.multi_dot([X.T, W, X])), X.T,W, Z])\n",
    "        eta = np.dot(X, b)\n",
    "        mu = norm.cdf(eta)\n",
    "        W = np.diag((((norm.pdf(eta))**2)/(mu*(1-mu))).reshape(n,))\n",
    "        Z = eta+(Y-mu)/(norm.pdf(eta))\n",
    "\n",
    "        if np.linalg.norm(b-b_0)/(np.linalg.norm(b_0)+epsilon) < epsilon:\n",
    "        #relative convergence criterion\n",
    "            convergence = True\n",
    "            print(\"\\nConvergence reached with value:\",np.linalg.norm(b-b_0)/(np.linalg.norm(b_0)+epsilon))\n",
    "        b_0 = b #old value\n",
    "\n",
    "    return(b)"
   ]
  },
  {
   "cell_type": "markdown",
   "id": "aa3799a9",
   "metadata": {
    "id": "aa3799a9"
   },
   "source": [
    "# Fisher Scoring model output"
   ]
  },
  {
   "cell_type": "code",
   "execution_count": 9,
   "id": "4445c8f7",
   "metadata": {
    "colab": {
     "base_uri": "https://localhost:8080/",
     "height": 397
    },
    "id": "4445c8f7",
    "outputId": "27077084-7595-43bd-a7bf-e077356a2f1b"
   },
   "outputs": [
    {
     "name": "stdout",
     "output_type": "stream",
     "text": [
      "\n",
      "Convergence reached with value: 1.3413658871808565e-07\n"
     ]
    },
    {
     "data": {
      "text/html": [
       "<div>\n",
       "<style scoped>\n",
       "    .dataframe tbody tr th:only-of-type {\n",
       "        vertical-align: middle;\n",
       "    }\n",
       "\n",
       "    .dataframe tbody tr th {\n",
       "        vertical-align: top;\n",
       "    }\n",
       "\n",
       "    .dataframe thead th {\n",
       "        text-align: right;\n",
       "    }\n",
       "</style>\n",
       "<table border=\"1\" class=\"dataframe\">\n",
       "  <thead>\n",
       "    <tr style=\"text-align: right;\">\n",
       "      <th></th>\n",
       "      <th>Betas</th>\n",
       "    </tr>\n",
       "  </thead>\n",
       "  <tbody>\n",
       "    <tr>\n",
       "      <th>sbp</th>\n",
       "      <td>-0.514337</td>\n",
       "    </tr>\n",
       "    <tr>\n",
       "      <th>tobacco</th>\n",
       "      <td>0.077668</td>\n",
       "    </tr>\n",
       "    <tr>\n",
       "      <th>ldl</th>\n",
       "      <td>0.221475</td>\n",
       "    </tr>\n",
       "    <tr>\n",
       "      <th>adiposity</th>\n",
       "      <td>0.212949</td>\n",
       "    </tr>\n",
       "    <tr>\n",
       "      <th>famhist</th>\n",
       "      <td>0.096447</td>\n",
       "    </tr>\n",
       "    <tr>\n",
       "      <th>typea</th>\n",
       "      <td>0.265909</td>\n",
       "    </tr>\n",
       "    <tr>\n",
       "      <th>obesity</th>\n",
       "      <td>0.231259</td>\n",
       "    </tr>\n",
       "    <tr>\n",
       "      <th>alcohol</th>\n",
       "      <td>-0.169230</td>\n",
       "    </tr>\n",
       "    <tr>\n",
       "      <th>age</th>\n",
       "      <td>0.000479</td>\n",
       "    </tr>\n",
       "    <tr>\n",
       "      <th>chd</th>\n",
       "      <td>0.383769</td>\n",
       "    </tr>\n",
       "  </tbody>\n",
       "</table>\n",
       "</div>"
      ],
      "text/plain": [
       "              Betas\n",
       "sbp       -0.514337\n",
       "tobacco    0.077668\n",
       "ldl        0.221475\n",
       "adiposity  0.212949\n",
       "famhist    0.096447\n",
       "typea      0.265909\n",
       "obesity    0.231259\n",
       "alcohol   -0.169230\n",
       "age        0.000479\n",
       "chd        0.383769"
      ]
     },
     "execution_count": 9,
     "metadata": {},
     "output_type": "execute_result"
    }
   ],
   "source": [
    "beta = probit(X,Y,epsilon = 0.000001)\n",
    "#print(\"Beta:\", beta.reshape((p+1,))) #estimated beta\n",
    "#our own step by step model\n",
    "betas = pd.DataFrame(beta)\n",
    "betas.rename(columns={0: 'Betas'},inplace=True)\n",
    "new_index = list(df.columns)\n",
    "betas.rename(index=dict(zip(betas.index, new_index)),inplace=True)\n",
    "betas"
   ]
  },
  {
   "cell_type": "markdown",
   "id": "a0393ad5",
   "metadata": {
    "id": "a0393ad5"
   },
   "source": [
    "# Metropolis Hastings model"
   ]
  },
  {
   "cell_type": "markdown",
   "id": "b5d2aa2f",
   "metadata": {
    "id": "b5d2aa2f"
   },
   "source": [
    "# Define Posterior"
   ]
  },
  {
   "cell_type": "code",
   "execution_count": 10,
   "id": "e1ab7a76",
   "metadata": {
    "id": "e1ab7a76"
   },
   "outputs": [],
   "source": [
    "# Normal CDF: P(c <= XB)\n",
    "def normal_cdf(X, beta): #accepts vectors too\n",
    "    linear_predictor = np.array(X) @ np.array(beta)\n",
    "    #print(linear_predictor)\n",
    "    prob_vector = []\n",
    "    if isinstance(linear_predictor,float):\n",
    "        return 1 / 2 * (1 + np.math.erf(linear_predictor / np.sqrt(2)))\n",
    "    else:\n",
    "        for lin in linear_predictor:\n",
    "            prob = 1 / 2 * (1 + np.math.erf(lin / np.sqrt(2)))\n",
    "            prob_vector.append(prob)\n",
    "        return np.array(prob_vector)\n",
    "\n",
    "# Prior function\n",
    "#def prior(beta):\n",
    "#    return 1 #non informative prior\n",
    "\n",
    "def prior_gaussian(beta, scale=10):\n",
    "    # Calculate the probability density function of a normal distribution\n",
    "    pdf_values = (1 / (np.sqrt(2 * np.pi) * scale)) * np.exp(-0.5 * (beta / scale)**2)\n",
    "\n",
    "    # Compute the product of the probabilities for each parameter\n",
    "    prior_prob = np.prod(pdf_values)\n",
    "    return prior_prob\n",
    "\n",
    "def prior_uniform(beta, scale=10):\n",
    "    return 1\n",
    "\n",
    "def cauchy_pdf(x, loc=0, scale=1):\n",
    "    # Cauchy probability density function\n",
    "    return (1 / (np.pi * scale * (1 + ((x - loc) / scale)**2)))\n",
    "\n",
    "def prior_cauchy(beta, scale=10):\n",
    "    # Calculate the probability density function of a Cauchy distribution\n",
    "    pdf_values = cauchy_pdf(beta, loc=0, scale=scale)\n",
    "\n",
    "    # Compute the product of the probabilities for each parameter\n",
    "    prior_prob = np.prod(pdf_values)\n",
    "\n",
    "    return prior_prob\n",
    "\n",
    "#Log Likelyhood function -- not used in the Metroposlis Hastings\n",
    "#def log_likelihood(y, X, beta): #log_likelyhood requires sum of logs\n",
    "#    log_likelihood_term = np.sum(y * np.log(p) + (1 - y) * np.log(1 - p))\n",
    "#    return log_likelihood_term\n",
    "\n",
    "# Likelihood function\n",
    "def likelihood(y, X, beta):\n",
    "    p = normal_cdf(X, beta)\n",
    "    likelihood_term = np.prod(p**y * (1 - p)**(1 - y))\n",
    "    return likelihood_term\n",
    "\n",
    "# Posterior function\n",
    "def posterior(beta, y, X, prior_type = 'uniform'):\n",
    "    if prior_type == 'uniform':\n",
    "      prior = prior_uniform\n",
    "    if prior_type == 'normal':\n",
    "      prior = prior_gaussian\n",
    "    if prior_type == 'cauchy':\n",
    "      prior = prior_cauchy\n",
    "    post = likelihood(y, X, beta) * prior(beta)\n",
    "    if post != 0:\n",
    "        return post\n",
    "    else:\n",
    "        return 0.0001"
   ]
  },
  {
   "cell_type": "code",
   "execution_count": 11,
   "id": "3512e801",
   "metadata": {
    "id": "3512e801"
   },
   "outputs": [],
   "source": [
    "# Metropolis-Hastings algorithm\n",
    "def metropolis_hastings(initial_beta, iterations, y, X, prior_type):\n",
    "    beta_samples = [initial_beta]\n",
    "\n",
    "    for _ in range(iterations):\n",
    "        current_beta = beta_samples[-1]\n",
    "\n",
    "        # Propose a new beta using a random walk\n",
    "        proposal = current_beta + np.random.normal(0, 0.05, size=len(current_beta))\n",
    "\n",
    "        # Calculate acceptance ratio\n",
    "        acceptance_ratio = min(1, posterior(proposal, y, X, prior_type) / posterior(current_beta, y, X, prior_type))\n",
    "\n",
    "        # Accept or reject the proposed beta\n",
    "        if np.random.rand() < acceptance_ratio:\n",
    "            beta_samples.append(proposal)\n",
    "        else:\n",
    "            beta_samples.append(current_beta)\n",
    "\n",
    "    return np.array(beta_samples)"
   ]
  },
  {
   "cell_type": "markdown",
   "id": "a44c4453",
   "metadata": {
    "id": "a44c4453"
   },
   "source": [
    "# Run Metropolis Hastings"
   ]
  },
  {
   "cell_type": "code",
   "execution_count": 12,
   "id": "9dab2ccf",
   "metadata": {
    "id": "9dab2ccf"
   },
   "outputs": [],
   "source": [
    "#set starting value of beta to a vector of zeros\n",
    "init_beta = np.zeros(10) #np.zeros(10) + 0.01 #if working with logs\n",
    "# RUN metropolis hastings\n",
    "m = metropolis_hastings(init_beta, 10000, Y, X, 'normal')"
   ]
  },
  {
   "cell_type": "code",
   "execution_count": 18,
   "id": "7630acc7-e9ff-49e9-b922-a9ff72e30d6c",
   "metadata": {},
   "outputs": [
    {
     "data": {
      "text/plain": [
       "array([[ 0.00000000e+00,  0.00000000e+00,  0.00000000e+00, ...,\n",
       "         0.00000000e+00,  0.00000000e+00,  0.00000000e+00],\n",
       "       [-5.29044646e-03,  8.29486591e-02, -5.18001235e-02, ...,\n",
       "        -2.52629338e-02, -2.42820709e-02,  3.02995354e-02],\n",
       "       [ 2.20707514e-02,  4.21629284e-02, -7.91503801e-03, ...,\n",
       "        -3.89208533e-02,  3.95589834e-02,  6.24975442e-02],\n",
       "       ...,\n",
       "       [-6.48822710e+00,  1.10696833e+01,  3.93420374e+00, ...,\n",
       "        -5.07946922e+00,  1.27720615e+01, -7.78259001e+00],\n",
       "       [-6.57271249e+00,  1.10849862e+01,  3.95855879e+00, ...,\n",
       "        -5.08716823e+00,  1.27677409e+01, -7.80373587e+00],\n",
       "       [-6.56591075e+00,  1.10986411e+01,  3.92787504e+00, ...,\n",
       "        -5.11016762e+00,  1.28413861e+01, -7.77116356e+00]])"
      ]
     },
     "execution_count": 18,
     "metadata": {},
     "output_type": "execute_result"
    }
   ],
   "source": [
    "m[:-10]"
   ]
  },
  {
   "cell_type": "code",
   "execution_count": 19,
   "id": "03143740",
   "metadata": {
    "colab": {
     "base_uri": "https://localhost:8080/"
    },
    "id": "03143740",
    "outputId": "671dc1eb-a349-430b-cf11-8f1c6c57ae1d"
   },
   "outputs": [
    {
     "data": {
      "text/plain": [
       "array([-2.54416925,  6.49302151,  2.64555657,  0.22281585, -2.22701539,\n",
       "       -0.89165095,  1.11837951, -2.31900955,  6.47106489, -4.8952207 ])"
      ]
     },
     "execution_count": 19,
     "metadata": {},
     "output_type": "execute_result"
    }
   ],
   "source": [
    "#Mean of the last 100 sampled betas\n",
    "betas_100mean = np.mean(m[:-100],axis=0)\n",
    "betas_100mean"
   ]
  },
  {
   "cell_type": "code",
   "execution_count": 20,
   "id": "AYzVU4gqZ5nv",
   "metadata": {
    "id": "AYzVU4gqZ5nv",
    "tags": []
   },
   "outputs": [],
   "source": [
    "#set starting value of beta to a vector of zeros\n",
    "init_beta = np.zeros(10) #np.zeros(10) + 0.01 #if working with logs\n",
    "# RUN metropolis hastings\n",
    "m_unif = metropolis_hastings(init_beta, 10000, Y, X, 'uniform')"
   ]
  },
  {
   "cell_type": "code",
   "execution_count": 21,
   "id": "lv4rwFmLZ5n3",
   "metadata": {
    "colab": {
     "base_uri": "https://localhost:8080/"
    },
    "id": "lv4rwFmLZ5n3",
    "outputId": "e17ad510-c117-44b9-9848-4f05b6478234"
   },
   "outputs": [
    {
     "data": {
      "text/plain": [
       "array([ 6.27248396,  2.08189657,  3.43811252, -5.60528762, -0.7156883 ,\n",
       "       -0.799445  ,  4.66112893,  2.20321405,  0.84704556, -2.24098295])"
      ]
     },
     "execution_count": 21,
     "metadata": {},
     "output_type": "execute_result"
    }
   ],
   "source": [
    "#Mean of the last 100 sampled betas\n",
    "betas_100mean_unif = np.mean(m_unif[:-100],axis=0)\n",
    "betas_100mean_unif"
   ]
  },
  {
   "cell_type": "code",
   "execution_count": null,
   "id": "o037d6fsaIjJ",
   "metadata": {
    "id": "o037d6fsaIjJ"
   },
   "outputs": [],
   "source": [
    "#set starting value of beta to a vector of zeros\n",
    "init_beta = np.zeros(10) #np.zeros(10) + 0.01 #if working with logs\n",
    "# RUN metropolis hastings\n",
    "m_cauchy = metropolis_hastings(init_beta, 10000, Y, X, 'uniform')"
   ]
  },
  {
   "cell_type": "code",
   "execution_count": null,
   "id": "44Y60oKEaIjK",
   "metadata": {
    "colab": {
     "base_uri": "https://localhost:8080/"
    },
    "id": "44Y60oKEaIjK",
    "outputId": "01b4c42b-82f0-4762-a15f-34af3aa1c804"
   },
   "outputs": [],
   "source": [
    "#Mean of the last 100 sampled betas\n",
    "betas_100mean_cauchy = np.mean(m_cauchy[:-100],axis=0)\n",
    "betas_100mean_cauchy"
   ]
  },
  {
   "cell_type": "code",
   "execution_count": 15,
   "id": "432eacfc",
   "metadata": {
    "colab": {
     "base_uri": "https://localhost:8080/",
     "height": 363
    },
    "id": "432eacfc",
    "outputId": "9b7bc3d9-5dda-4f28-b8fc-0d92ce06d486"
   },
   "outputs": [
    {
     "data": {
      "text/html": [
       "<div>\n",
       "<style scoped>\n",
       "    .dataframe tbody tr th:only-of-type {\n",
       "        vertical-align: middle;\n",
       "    }\n",
       "\n",
       "    .dataframe tbody tr th {\n",
       "        vertical-align: top;\n",
       "    }\n",
       "\n",
       "    .dataframe thead th {\n",
       "        text-align: right;\n",
       "    }\n",
       "</style>\n",
       "<table border=\"1\" class=\"dataframe\">\n",
       "  <thead>\n",
       "    <tr style=\"text-align: right;\">\n",
       "      <th></th>\n",
       "      <th>Mean of last 100 Betas</th>\n",
       "    </tr>\n",
       "  </thead>\n",
       "  <tbody>\n",
       "    <tr>\n",
       "      <th>sbp</th>\n",
       "      <td>-2.544169</td>\n",
       "    </tr>\n",
       "    <tr>\n",
       "      <th>tobacco</th>\n",
       "      <td>6.493022</td>\n",
       "    </tr>\n",
       "    <tr>\n",
       "      <th>ldl</th>\n",
       "      <td>2.645557</td>\n",
       "    </tr>\n",
       "    <tr>\n",
       "      <th>adiposity</th>\n",
       "      <td>0.222816</td>\n",
       "    </tr>\n",
       "    <tr>\n",
       "      <th>famhist</th>\n",
       "      <td>-2.227015</td>\n",
       "    </tr>\n",
       "    <tr>\n",
       "      <th>typea</th>\n",
       "      <td>-0.891651</td>\n",
       "    </tr>\n",
       "    <tr>\n",
       "      <th>obesity</th>\n",
       "      <td>1.118380</td>\n",
       "    </tr>\n",
       "    <tr>\n",
       "      <th>alcohol</th>\n",
       "      <td>-2.319010</td>\n",
       "    </tr>\n",
       "    <tr>\n",
       "      <th>age</th>\n",
       "      <td>6.471065</td>\n",
       "    </tr>\n",
       "    <tr>\n",
       "      <th>chd</th>\n",
       "      <td>-4.895221</td>\n",
       "    </tr>\n",
       "  </tbody>\n",
       "</table>\n",
       "</div>"
      ],
      "text/plain": [
       "           Mean of last 100 Betas\n",
       "sbp                     -2.544169\n",
       "tobacco                  6.493022\n",
       "ldl                      2.645557\n",
       "adiposity                0.222816\n",
       "famhist                 -2.227015\n",
       "typea                   -0.891651\n",
       "obesity                  1.118380\n",
       "alcohol                 -2.319010\n",
       "age                      6.471065\n",
       "chd                     -4.895221"
      ]
     },
     "execution_count": 15,
     "metadata": {},
     "output_type": "execute_result"
    }
   ],
   "source": [
    "# Display estimated betas\n",
    "betas_estimate = pd.DataFrame(betas_100mean)\n",
    "betas_estimate.rename(columns={0: 'Mean of last 100 Betas'},inplace=True)\n",
    "new_index = list(df.columns)\n",
    "betas_estimate.rename(index=dict(zip(betas_estimate.index, new_index)),inplace=True)\n",
    "betas_estimate"
   ]
  },
  {
   "cell_type": "code",
   "execution_count": null,
   "id": "57dbffa6",
   "metadata": {
    "colab": {
     "base_uri": "https://localhost:8080/",
     "height": 472
    },
    "id": "57dbffa6",
    "outputId": "ec3a79a6-3b82-4742-fa26-bab35512756c"
   },
   "outputs": [],
   "source": [
    "#Convergence plots for the betas\n",
    "plt.plot(m_unif)\n",
    "plt.xlabel('Iterations')\n",
    "plt.ylabel('Parameter Value')\n",
    "plt.title('Convergence Plot for the 10 Beta Parameters')\n",
    "plt.show()"
   ]
  },
  {
   "cell_type": "code",
   "execution_count": null,
   "id": "6c79817c",
   "metadata": {
    "colab": {
     "base_uri": "https://localhost:8080/",
     "height": 1000
    },
    "id": "6c79817c",
    "outputId": "63920ffc-80d3-4b2d-9879-a5c3387dc674"
   },
   "outputs": [],
   "source": [
    "fig, axes = plt.subplots(10, 1, figsize=(10, 2*10))\n",
    "\n",
    "# Loop through variables and plot ACF for each beta\n",
    "for j in range(10):\n",
    "    sm.graphics.tsa.plot_acf(m[:, j], lags=40, ax=axes[j], title=f'ACF for Variable {j + 1}')\n",
    "\n",
    "plt.tight_layout()\n",
    "plt.show()"
   ]
  },
  {
   "cell_type": "code",
   "execution_count": null,
   "id": "18d5ca49",
   "metadata": {
    "colab": {
     "base_uri": "https://localhost:8080/",
     "height": 1000
    },
    "id": "18d5ca49",
    "outputId": "a95a2472-9904-44ba-bbab-8881a7771e01"
   },
   "outputs": [],
   "source": [
    "#Convergence as shown by ACF with thinning every 10 steps\n",
    "\n",
    "betas_burnin = m[1000:]\n",
    "fig, axes = plt.subplots(10, 1, figsize=(10, 2*10))\n",
    "\n",
    "# Loop through variables and plot ACF for each beta\n",
    "for j in range(10):\n",
    "    sm.graphics.tsa.plot_acf(betas_burnin[:, j], lags=40, ax=axes[j], title=f'ACF for Variable {j + 1}')\n",
    "\n",
    "plt.tight_layout()\n",
    "plt.show()"
   ]
  },
  {
   "cell_type": "code",
   "execution_count": null,
   "id": "55f93844",
   "metadata": {
    "colab": {
     "base_uri": "https://localhost:8080/",
     "height": 1000
    },
    "id": "55f93844",
    "outputId": "e5c8526d-8792-49ca-9a5a-6ace593c5007"
   },
   "outputs": [],
   "source": [
    "#Convergence as shown by ACF with thinning every 10 steps\n",
    "\n",
    "betas_thin = m[1::10]\n",
    "fig, axes = plt.subplots(10, 1, figsize=(10, 2*10))\n",
    "\n",
    "# Loop through variables and plot ACF for each beta\n",
    "for j in range(10):\n",
    "    sm.graphics.tsa.plot_acf(betas_thin[:, j], lags=40, ax=axes[j], title=f'ACF for Variable {j + 1}')\n",
    "\n",
    "plt.tight_layout()\n",
    "plt.show()"
   ]
  }
 ],
 "metadata": {
  "colab": {
   "provenance": []
  },
  "kernelspec": {
   "display_name": "Python 3 (ipykernel)",
   "language": "python",
   "name": "python3"
  },
  "language_info": {
   "codemirror_mode": {
    "name": "ipython",
    "version": 3
   },
   "file_extension": ".py",
   "mimetype": "text/x-python",
   "name": "python",
   "nbconvert_exporter": "python",
   "pygments_lexer": "ipython3",
   "version": "3.8.8"
  }
 },
 "nbformat": 4,
 "nbformat_minor": 5
}
